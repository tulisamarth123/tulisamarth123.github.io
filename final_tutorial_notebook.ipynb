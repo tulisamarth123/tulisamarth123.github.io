{
 "cells": [
  {
   "cell_type": "markdown",
   "metadata": {},
   "source": [
    "# **<p style=\"text-align: center;\">Analysis of Heart Disease Mortality Data**</p>\n",
    "\n",
    "**<p style=\"text-align: center;\">Samarth Tuli, Ndenko Fontem, Yi Zhu, Kimia Samieinejad**</p>    \n"
   ]
  },
  {
   "cell_type": "markdown",
   "metadata": {},
   "source": [
    "**Importance of Heart Disease Mortality Research**    \n",
    "\n",
    "**What is coronary heart disease?**\n",
    "\n",
    "**Tutorial Purpose**"
   ]
  },
  {
   "cell_type": "code",
   "execution_count": 5,
   "metadata": {},
   "outputs": [
    {
     "name": "stdout",
     "output_type": "stream",
     "text": [
      "Hello World. Testing notebook appears on GitHub page.\n"
     ]
    }
   ],
   "source": [
    "print(\"Hello World. Testing notebook appears on GitHub page.\")"
   ]
  },
  {
   "cell_type": "code",
   "execution_count": 6,
   "metadata": {},
   "outputs": [
    {
     "name": "stdout",
     "output_type": "stream",
     "text": [
      "Yi Zhu testing\n"
     ]
    }
   ],
   "source": [
    "print(\"Yi Zhu testing\")"
   ]
  }
 ],
 "metadata": {
  "kernelspec": {
   "display_name": "Python 3",
   "language": "python",
   "name": "python3"
  },
  "language_info": {
   "codemirror_mode": {
    "name": "ipython",
    "version": 3
   },
   "file_extension": ".py",
   "mimetype": "text/x-python",
   "name": "python",
   "nbconvert_exporter": "python",
   "pygments_lexer": "ipython3",
   "version": "3.8.10"
  },
  "orig_nbformat": 4
 },
 "nbformat": 4,
 "nbformat_minor": 2
}
