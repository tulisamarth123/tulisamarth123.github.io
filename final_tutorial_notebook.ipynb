{
 "cells": [
  {
   "cell_type": "markdown",
   "metadata": {},
   "source": [
    "# **Analysis of Heart Disease Mortality Data**\n",
    "\n",
    "#### **Samarth Tuli, Ndenko Fontem, Yi Zhu, Kimia Samieinejad**    \n"
   ]
  },
  {
   "cell_type": "markdown",
   "metadata": {},
   "source": [
    "### **Importance of Heart Disease Mortality Research**    \n",
    "People across the world have experiencing several physical diseases ranging from diabetes to arthritis and mental health disorders from depression to suicide within the past 2 decades, which has made global health a significant priority of the research community. However, one of the most important disease types that is being studied is heart disease, especially coronary (ischemic) artery disease. According to the [World Health Organization](https://www.who.int/health-topics/cardiovascular-diseases#tab=tab_1), heart disease is the leading global cause of death, which results in 17.9 million annual deaths. 4 out of every 5 heart disease deaths are caused by heart attacks and strokes, which can be caused by any mental or physical health factors, and one third of heart disease deaths occur prematurely to people under the age of 70, which means everyone is vulnerable to heart disease. Research efforts led by NIH and WHO have shown that a wide variety of behavioral, medical, and socioeconomic risk factors can be underlying causes for heart disease mortality including tobacco and alcohol consumption, obesity, lack of physical activity, malnutrition, increased blood pressure, and restricted access to primary healthcare facilities. Other commorbidities (pre-existing conditions) such as diabetes, arthritis, chronic kidney disease, and anxiety problems. Given the massive amount of data collected on these factors and how heart disease deaths can vary for each country's population, data scientists have a significant role to break down this data into insights that can guide the future path of heart disease mortality research. In our dataset, we are defining heart disease mortality rate as the number of heart disease related deaths per 100,000 people and will cover it for all countries from 2012-2017 and will focus upon countries within North America and Europe.\n",
    "\n",
    "### **What is coronary heart disease?**\n",
    "\n",
    "According to the NIH's latest research, [coronary heart disease](https://www.nhlbi.nih.gov/health/coronary-heart-disease) is a cardiovascular disease where the arteries cannot provide sufficient oxygen to a person's bloodstream. The primary cause of CHD is high cholesterol forming plaque along the lining of the arteries, which can constrict blood flow, cause blood vessels to stop functioning normally, and also increase the chances of severe chest pain or heart attacks or strokes or cardiac arrest. Although the risk of coronary heart disease can be reduced through lifestyle changes, many people don't take immediate action. This has resulted in it becoming globally widespread with 650000 deaths per year due to generalized heart disease, 11% of adults being diagnosed with heart disease, and 366000 annual deaths due to CHD specifically in the US alone. This background clearly demonstrates that heart disease mortality data needs to be analyzed by data scientists to provide key insights that will mitigate risk for future heart patients.\n",
    "\n",
    "### **Tutorial Purpose**\n",
    "\n",
<<<<<<< HEAD
    "The objective of this tutorial is to evaluate many factors that may positively or negatively affect the heart disease mortality rates of populations across different countries so that we can get a better understanding of what factors should be focused upon most by the research community to reduce the overall risk of heart disease-related deaths in North America and European countries. Data science is the right tool to achieve this because it will allow us to deconstruct complex heart disease mortality data into specific insights and recommendations that can be used by heart disease research leaders and policymakers to take immediate action through a 5-stage pipeline: data collection and processing, exploratory data analysis and visualizations, analysis/hypothesis testing/use of ML models, and insights & policy decisions."
   ]
  },
  {
   "cell_type": "markdown",
   "metadata": {},
   "source": [
    "## **Data Collection and Processing**"
   ]
  },
  {
   "cell_type": "code",
   "execution_count": 1,
   "metadata": {},
   "outputs": [
    {
     "name": "stdout",
     "output_type": "stream",
     "text": [
      "Hello World. Testing notebook appears on GitHub page.\n"
     ]
    }
   ],
   "source": [
    "print(\"Hello World. Testing notebook appears on GitHub page.\")"
   ]
  },
  {
   "cell_type": "code",
   "execution_count": 2,
   "metadata": {},
   "outputs": [
    {
     "name": "stdout",
     "output_type": "stream",
     "text": [
      "Yi Zhu testing\n"
     ]
    }
   ],
   "source": [
    "print(\"Yi Zhu testing\")"
   ]
  },
  {
   "cell_type": "code",
   "execution_count": 3,
   "metadata": {
    "editable": true,
    "slideshow": {
     "slide_type": ""
    },
    "tags": []
   },
   "outputs": [
    {
     "name": "stdout",
     "output_type": "stream",
     "text": [
      "Ndenko testing\n"
     ]
    }
   ],
   "source": [
    "print(\"Ndenko testing\")"
=======
    "##### The objective of this tutorial is to evaluate many factors that may positively or negatively affect the heart disease mortality rates of populations across different countries so that we can get a better understanding of what factors should be focused upon most by the research community to reduce the overall risk of heart disease-related deaths in North America and European countries. Data science is the right tool to achieve this because it will allow us to deconstruct complex heart disease mortality data into specific insights and recommendations that can be used by heart disease research leaders and policymakers to take immediate action through a 5-stage pipeline: data collection and processing, exploratory data analysis and visualizations, analysis/hypothesis testing/use of ML models, and insights & policy decisions.\n",
    "\n",
    "### **Data Collection and Imputation**\n",
    "##### We collected data from [World Health Organization](https://www.who.int/data/gho), this sepcialized agency established by the United Nations is responsible for harmonizing the global health activties and aiding governments around the world in inhancing their healthcare systems. We also collected data from [Our World in Data](https://ourworldindata.org/), it is a online scientific publication that focuses on global challenges such as poverty, disease, and inequality. We imported input features such as national diabetes rate, national adult blood pressure, and X(NEED CHANEGS) other features, however, some of the datasets do not contain data for all countries or our designated year range. To comabt this problem, we will use (____________________________________________)."
>>>>>>> 3a2176488a8d310cccb3347d98fd4e018ccb00b0
   ]
  },
  {
   "cell_type": "code",
<<<<<<< HEAD
   "execution_count": 4,
=======
   "execution_count": 1,
>>>>>>> 3a2176488a8d310cccb3347d98fd4e018ccb00b0
   "metadata": {},
   "outputs": [
    {
     "name": "stderr",
     "output_type": "stream",
     "text": [
      "/usr/lib/python3/dist-packages/requests/__init__.py:89: RequestsDependencyWarning: urllib3 (2.0.3) or chardet (3.0.4) doesn't match a supported version!\n",
      "  warnings.warn(\"urllib3 ({}) or chardet ({}) doesn't match a supported \"\n"
     ]
    },
    {
     "data": {
      "text/html": [
       "<div>\n",
       "<style scoped>\n",
       "    .dataframe tbody tr th:only-of-type {\n",
       "        vertical-align: middle;\n",
       "    }\n",
       "\n",
       "    .dataframe tbody tr th {\n",
       "        vertical-align: top;\n",
       "    }\n",
       "\n",
       "    .dataframe thead th {\n",
       "        text-align: right;\n",
       "    }\n",
       "</style>\n",
       "<table border=\"1\" class=\"dataframe\">\n",
       "  <thead>\n",
       "    <tr style=\"text-align: right;\">\n",
       "      <th></th>\n",
       "      <th>Country</th>\n",
       "      <th>Year</th>\n",
       "      <th>Suicides per 10000 people</th>\n",
       "    </tr>\n",
       "  </thead>\n",
       "  <tbody>\n",
       "    <tr>\n",
       "      <th>0</th>\n",
       "      <td>Afghanistan</td>\n",
       "      <td>2012</td>\n",
       "      <td>4.01</td>\n",
       "    </tr>\n",
       "    <tr>\n",
       "      <th>1</th>\n",
       "      <td>Albania</td>\n",
       "      <td>2012</td>\n",
       "      <td>5.18</td>\n",
       "    </tr>\n",
       "    <tr>\n",
       "      <th>2</th>\n",
       "      <td>Algeria</td>\n",
       "      <td>2012</td>\n",
       "      <td>2.90</td>\n",
       "    </tr>\n",
       "    <tr>\n",
       "      <th>3</th>\n",
       "      <td>Angola</td>\n",
       "      <td>2012</td>\n",
       "      <td>6.93</td>\n",
       "    </tr>\n",
       "    <tr>\n",
       "      <th>4</th>\n",
       "      <td>Antigua and Barbuda</td>\n",
       "      <td>2012</td>\n",
       "      <td>0.00</td>\n",
       "    </tr>\n",
       "    <tr>\n",
       "      <th>...</th>\n",
       "      <td>...</td>\n",
       "      <td>...</td>\n",
       "      <td>...</td>\n",
       "    </tr>\n",
       "    <tr>\n",
       "      <th>1093</th>\n",
       "      <td>Venezuela (Bolivarian Republic of)</td>\n",
       "      <td>2017</td>\n",
       "      <td>2.16</td>\n",
       "    </tr>\n",
       "    <tr>\n",
       "      <th>1094</th>\n",
       "      <td>Viet Nam</td>\n",
       "      <td>2017</td>\n",
       "      <td>7.68</td>\n",
       "    </tr>\n",
       "    <tr>\n",
       "      <th>1095</th>\n",
       "      <td>Yemen</td>\n",
       "      <td>2017</td>\n",
       "      <td>5.58</td>\n",
       "    </tr>\n",
       "    <tr>\n",
       "      <th>1096</th>\n",
       "      <td>Zambia</td>\n",
       "      <td>2017</td>\n",
       "      <td>8.53</td>\n",
       "    </tr>\n",
       "    <tr>\n",
       "      <th>1097</th>\n",
       "      <td>Zimbabwe</td>\n",
       "      <td>2017</td>\n",
       "      <td>15.02</td>\n",
       "    </tr>\n",
       "  </tbody>\n",
       "</table>\n",
       "<p>1098 rows × 3 columns</p>\n",
       "</div>"
      ],
      "text/plain": [
       "                                 Country  Year  Suicides per 10000 people\n",
       "0                            Afghanistan  2012                       4.01\n",
       "1                                Albania  2012                       5.18\n",
       "2                                Algeria  2012                       2.90\n",
       "3                                 Angola  2012                       6.93\n",
       "4                    Antigua and Barbuda  2012                       0.00\n",
       "...                                  ...   ...                        ...\n",
       "1093  Venezuela (Bolivarian Republic of)  2017                       2.16\n",
       "1094                            Viet Nam  2017                       7.68\n",
       "1095                               Yemen  2017                       5.58\n",
       "1096                              Zambia  2017                       8.53\n",
       "1097                            Zimbabwe  2017                      15.02\n",
       "\n",
       "[1098 rows x 3 columns]"
      ]
     },
<<<<<<< HEAD
     "execution_count": 4,
=======
     "execution_count": 1,
>>>>>>> 3a2176488a8d310cccb3347d98fd4e018ccb00b0
     "metadata": {},
     "output_type": "execute_result"
    }
   ],
   "source": [
    "import requests\n",
    "from bs4 import BeautifulSoup\n",
    "import numpy as np\n",
    "import pandas as pd\n",
    "import re\n",
    "\n",
    "# Import and process crude suicide rates data for both sexes (# of people per 100,000)\n",
    "suicide_rates_all_countries = pd.read_csv('data/suicide_rates_all_countries2012-2017.csv')\n",
    "suicide_rates_all_countries.head()\n",
    "suicide_rates_all_countries = suicide_rates_all_countries[suicide_rates_all_countries[\"Dim1\"] == \"Both sexes\"]\n",
    "suicide_rates_all_countries = suicide_rates_all_countries[['Location', 'Period', 'FactValueNumeric']]\n",
    "suicide_rates_all_countries = suicide_rates_all_countries.rename(columns = {\"Location\": \"Country\", \"Period\": \"Year\", \"FactValueNumeric\":\"Suicides per 10000 people\"})\n",
    "suicide_rates_all_countries = suicide_rates_all_countries.sort_values([\"Year\", \"Country\"], ascending = True)\n",
    "suicide_rates_all_countries = suicide_rates_all_countries.reset_index(drop = True)\n",
    "suicide_rates_all_countries"
   ]
  },
  {
   "cell_type": "code",
<<<<<<< HEAD
   "execution_count": null,
   "metadata": {},
   "outputs": [],
   "source": []
=======
   "execution_count": 4,
   "metadata": {},
   "outputs": [
    {
     "data": {
      "text/html": [
       "<div>\n",
       "<style scoped>\n",
       "    .dataframe tbody tr th:only-of-type {\n",
       "        vertical-align: middle;\n",
       "    }\n",
       "\n",
       "    .dataframe tbody tr th {\n",
       "        vertical-align: top;\n",
       "    }\n",
       "\n",
       "    .dataframe thead th {\n",
       "        text-align: right;\n",
       "    }\n",
       "</style>\n",
       "<table border=\"1\" class=\"dataframe\">\n",
       "  <thead>\n",
       "    <tr style=\"text-align: right;\">\n",
       "      <th></th>\n",
       "      <th>Country</th>\n",
       "      <th>Year</th>\n",
       "      <th>Sex</th>\n",
       "      <th>Age</th>\n",
       "      <th>Value</th>\n",
       "    </tr>\n",
       "  </thead>\n",
       "  <tbody>\n",
       "    <tr>\n",
       "      <th>2401</th>\n",
       "      <td>Afghanistan</td>\n",
       "      <td>2012</td>\n",
       "      <td>Male</td>\n",
       "      <td>18+  years</td>\n",
       "      <td>22.3 [19.9 – 24.6]</td>\n",
       "    </tr>\n",
       "    <tr>\n",
       "      <th>2434</th>\n",
       "      <td>Afghanistan</td>\n",
       "      <td>2012</td>\n",
       "      <td>Both sexes</td>\n",
       "      <td>18+  years</td>\n",
       "      <td>22.9 [21.6 – 24.3]</td>\n",
       "    </tr>\n",
       "    <tr>\n",
       "      <th>2475</th>\n",
       "      <td>Afghanistan</td>\n",
       "      <td>2012</td>\n",
       "      <td>Female</td>\n",
       "      <td>18+  years</td>\n",
       "      <td>23.6 [22.6 – 24.6]</td>\n",
       "    </tr>\n",
       "    <tr>\n",
       "      <th>1816</th>\n",
       "      <td>Afghanistan</td>\n",
       "      <td>2013</td>\n",
       "      <td>Male</td>\n",
       "      <td>18+  years</td>\n",
       "      <td>22.3 [20 – 24.8]</td>\n",
       "    </tr>\n",
       "    <tr>\n",
       "      <th>1851</th>\n",
       "      <td>Afghanistan</td>\n",
       "      <td>2013</td>\n",
       "      <td>Both sexes</td>\n",
       "      <td>18+  years</td>\n",
       "      <td>23 [21.7 – 24.4]</td>\n",
       "    </tr>\n",
       "    <tr>\n",
       "      <th>...</th>\n",
       "      <td>...</td>\n",
       "      <td>...</td>\n",
       "      <td>...</td>\n",
       "      <td>...</td>\n",
       "      <td>...</td>\n",
       "    </tr>\n",
       "    <tr>\n",
       "      <th>725</th>\n",
       "      <td>Zimbabwe</td>\n",
       "      <td>2015</td>\n",
       "      <td>Both sexes</td>\n",
       "      <td>18+  years</td>\n",
       "      <td>23.8 [23.4 – 24.2]</td>\n",
       "    </tr>\n",
       "    <tr>\n",
       "      <th>804</th>\n",
       "      <td>Zimbabwe</td>\n",
       "      <td>2015</td>\n",
       "      <td>Female</td>\n",
       "      <td>18+  years</td>\n",
       "      <td>25.3 [24.6 – 25.9]</td>\n",
       "    </tr>\n",
       "    <tr>\n",
       "      <th>46</th>\n",
       "      <td>Zimbabwe</td>\n",
       "      <td>2016</td>\n",
       "      <td>Male</td>\n",
       "      <td>18+  years</td>\n",
       "      <td>22.2 [21.6 – 22.8]</td>\n",
       "    </tr>\n",
       "    <tr>\n",
       "      <th>134</th>\n",
       "      <td>Zimbabwe</td>\n",
       "      <td>2016</td>\n",
       "      <td>Both sexes</td>\n",
       "      <td>18+  years</td>\n",
       "      <td>23.8 [23.3 – 24.3]</td>\n",
       "    </tr>\n",
       "    <tr>\n",
       "      <th>215</th>\n",
       "      <td>Zimbabwe</td>\n",
       "      <td>2016</td>\n",
       "      <td>Female</td>\n",
       "      <td>18+  years</td>\n",
       "      <td>25.3 [24.6 – 26]</td>\n",
       "    </tr>\n",
       "  </tbody>\n",
       "</table>\n",
       "<p>2925 rows × 5 columns</p>\n",
       "</div>"
      ],
      "text/plain": [
       "          Country  Year         Sex         Age               Value\n",
       "2401  Afghanistan  2012        Male  18+  years  22.3 [19.9 – 24.6]\n",
       "2434  Afghanistan  2012  Both sexes  18+  years  22.9 [21.6 – 24.3]\n",
       "2475  Afghanistan  2012      Female  18+  years  23.6 [22.6 – 24.6]\n",
       "1816  Afghanistan  2013        Male  18+  years    22.3 [20 – 24.8]\n",
       "1851  Afghanistan  2013  Both sexes  18+  years    23 [21.7 – 24.4]\n",
       "...           ...   ...         ...         ...                 ...\n",
       "725      Zimbabwe  2015  Both sexes  18+  years  23.8 [23.4 – 24.2]\n",
       "804      Zimbabwe  2015      Female  18+  years  25.3 [24.6 – 25.9]\n",
       "46       Zimbabwe  2016        Male  18+  years  22.2 [21.6 – 22.8]\n",
       "134      Zimbabwe  2016  Both sexes  18+  years  23.8 [23.3 – 24.3]\n",
       "215      Zimbabwe  2016      Female  18+  years    25.3 [24.6 – 26]\n",
       "\n",
       "[2925 rows x 5 columns]"
      ]
     },
     "execution_count": 4,
     "metadata": {},
     "output_type": "execute_result"
    }
   ],
   "source": [
    "bmi_all_countries = pd.read_csv('data/BMI.csv')\n",
    "bmi_all_countries = bmi_all_countries[['Location', 'Period', 'Dim1','Dim2','Value']]\n",
    "bmi_all_countries = bmi_all_countries.rename(columns = {\"Location\": \"Country\", \"Period\": \"Year\", \"Dim1\":\"Sex\", \"Dim2\":\"Age\"})\n",
    "bmi_all_countries = bmi_all_countries.sort_values(by=['Country', 'Year'])\n",
    "\n",
    "bmi_all_countries"
   ]
>>>>>>> 3a2176488a8d310cccb3347d98fd4e018ccb00b0
  }
 ],
 "metadata": {
  "kernelspec": {
   "display_name": "Python 3 (ipykernel)",
   "language": "python",
   "name": "python3"
  },
  "language_info": {
   "codemirror_mode": {
    "name": "ipython",
    "version": 3
   },
   "file_extension": ".py",
   "mimetype": "text/x-python",
   "name": "python",
   "nbconvert_exporter": "python",
   "pygments_lexer": "ipython3",
   "version": "3.8.10"
  }
 },
 "nbformat": 4,
 "nbformat_minor": 4
}
